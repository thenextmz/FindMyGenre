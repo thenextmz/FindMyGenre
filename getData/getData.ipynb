{
 "cells": [
  {
   "cell_type": "code",
   "execution_count": 2,
   "metadata": {
    "pycharm": {
     "name": "#%%\n"
    }
   },
   "outputs": [],
   "source": [
    "#imports \n",
    "import pandas as pd\n",
    "import numpy as np\n",
    "import random\n",
    "import ast\n",
    "\n",
    "from torch import nn\n",
    "import torch\n",
    "import json\n",
    "import re\n",
    "\n",
    "#add further needed libraries below\n",
    "from torch.utils.data import DataLoader\n",
    "from sklearn.model_selection import train_test_split"
   ]
  },
  {
   "cell_type": "code",
   "execution_count": 9,
   "metadata": {
    "pycharm": {
     "name": "#%%\n"
    }
   },
   "outputs": [],
   "source": [
    "data = pd.read_csv(\"../../data/fma_metadata/raw_tracks.csv\")\n",
    "def getSongsByGenre(target_genre):\n",
    "    songList = []\n",
    "    for i, genres in enumerate(data[\"track_genres\"]):\n",
    "        try:\n",
    "            dict = json.loads(genres.replace(\"'\", \"\\\"\"))    \n",
    "            for genre in dict:\n",
    "                if genre[\"genre_title\"] == target_genre:\n",
    "                    songList.append({\"artist\": data[\"artist_name\"][i], \"song\": data[\"track_title\"][i]})\n",
    "        except:\n",
    "            pass\n",
    "    return songList    \n",
    "                \n",
    "songList = getSongsByGenre(\"Avant-Garde\")  \n",
    "\n",
    "for song in songList:\n",
    "    pass\n",
    "    # print(song)"
   ]
  },
  {
   "cell_type": "code",
   "execution_count": null,
   "metadata": {},
   "outputs": [],
   "source": []
  }
 ],
 "metadata": {
  "kernelspec": {
   "display_name": "Python 3 (ipykernel)",
   "language": "python",
   "name": "python3"
  },
  "language_info": {
   "codemirror_mode": {
    "name": "ipython",
    "version": 3
   },
   "file_extension": ".py",
   "mimetype": "text/x-python",
   "name": "python",
   "nbconvert_exporter": "python",
   "pygments_lexer": "ipython3",
   "version": "3.10.6"
  }
 },
 "nbformat": 4,
 "nbformat_minor": 4
}
